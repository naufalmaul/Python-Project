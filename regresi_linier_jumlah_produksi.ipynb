{
  "cells": [
    {
      "cell_type": "markdown",
      "source": [
        "# **Kelompok 6 Mentor Jonatan Situmorang**\n",
        "# Anggota:\n",
        "# - Adam Muslim\n",
        "# - Naufal Maulana Faza\n",
        "# - Viona Siahaan\n",
        "\n",
        "# Melalui dataset dari Kaggle disini kami akan melakukan analisis data Jumlah Produksi dengan model Linear Regresion."
      ],
      "metadata": {
        "id": "oy5el8z3cS_A"
      },
      "id": "oy5el8z3cS_A"
    },
    {
      "cell_type": "markdown",
      "source": [
        "# Bagian 1: Viona"
      ],
      "metadata": {
        "id": "89oy792syyji"
      },
      "id": "89oy792syyji"
    },
    {
      "cell_type": "markdown",
      "id": "8cec889d",
      "metadata": {
        "papermill": {
          "duration": 0.014575,
          "end_time": "2022-03-27T07:12:23.965330",
          "exception": false,
          "start_time": "2022-03-27T07:12:23.950755",
          "status": "completed"
        },
        "tags": [],
        "id": "8cec889d"
      },
      "source": [
        "# * Import Packages dan Dataset"
      ]
    },
    {
      "cell_type": "markdown",
      "source": [
        "Pada bagian ini kita akan mengimpor library untuk menganalisis dan memvisualisasi data, mengatur plot, dan mengaktifkan mode plot inline.\n",
        "- NumPy adalah library yang digunakan untuk komputasi numerik di Python. Ini menyediakan objek array multidimensi yang efisien, dengan berbagai fungsi untuk bekerja dengan array.\n",
        "- Pandas adalah library yang digunakan untuk analisis data di Python. Ini menyediakan struktur data dan fungsi untuk memanipulasi data tabular dan deret waktu.\n",
        "- Matplotlib adalah library yang digunakan untuk membuat visualisasi data dalam bentuk grafik, plot, dan visualisasi lainnya di Python.\n",
        "-  Seaborn adalah library Python yang dibangun di atas Matplotlib dan digunakan untuk membuat plot statistik yang menarik dan informatif."
      ],
      "metadata": {
        "id": "MT5M7n3SRCUu"
      },
      "id": "MT5M7n3SRCUu"
    },
    {
      "cell_type": "code",
      "execution_count": null,
      "id": "475c2206",
      "metadata": {
        "execution": {
          "iopub.execute_input": "2022-03-27T07:12:24.001815Z",
          "iopub.status.busy": "2022-03-27T07:12:24.001156Z",
          "iopub.status.idle": "2022-03-27T07:12:25.087637Z",
          "shell.execute_reply": "2022-03-27T07:12:25.086405Z",
          "shell.execute_reply.started": "2022-03-26T07:26:06.699403Z"
        },
        "papermill": {
          "duration": 1.108355,
          "end_time": "2022-03-27T07:12:25.087845",
          "exception": false,
          "start_time": "2022-03-27T07:12:23.979490",
          "status": "completed"
        },
        "tags": [],
        "id": "475c2206"
      },
      "outputs": [],
      "source": [
        "#library import\n",
        "import numpy as np\n",
        "import pandas as pd\n",
        "from pandas import Series,DataFrame #dari Pandas mengimport \"Series\" struktur data array atau \"DataFrame\" struktur data dari tabel database\n",
        "\n",
        "#packages for plotting\n",
        "import matplotlib.pyplot as plt\n",
        "import seaborn as sns\n",
        "sns.set_style('whitegrid') #menampilkan latar belakang putih dengan garis-garis grid.\n",
        "\n",
        "#plot akan ditampilkan di output notebook secara otomatis setelah dihasilkan tanpa memerlukan pemanggilan tambahan ke fungsi 'plt.show()'.\n",
        "%matplotlib inline"
      ]
    },
    {
      "cell_type": "markdown",
      "source": [
        "Selanjutnya kita akan menginstal paket openpyxl yang akan digunakan untuk memanipulasi file excel. Dengan paket ini kita dapat membaca, mengedit, dan membuat file excel dengan Python."
      ],
      "metadata": {
        "id": "L9S5KcZ9R4vw"
      },
      "id": "L9S5KcZ9R4vw"
    },
    {
      "cell_type": "code",
      "execution_count": null,
      "id": "7414f26d",
      "metadata": {
        "execution": {
          "iopub.execute_input": "2022-03-27T07:12:25.118763Z",
          "iopub.status.busy": "2022-03-27T07:12:25.118054Z",
          "iopub.status.idle": "2022-03-27T07:12:36.929291Z",
          "shell.execute_reply": "2022-03-27T07:12:36.930077Z",
          "shell.execute_reply.started": "2022-03-26T07:26:08.940687Z"
        },
        "papermill": {
          "duration": 11.829017,
          "end_time": "2022-03-27T07:12:36.930361",
          "exception": false,
          "start_time": "2022-03-27T07:12:25.101344",
          "status": "completed"
        },
        "tags": [],
        "id": "7414f26d",
        "outputId": "550e2108-24b8-43a7-df01-7f8c4d3ecdda"
      },
      "outputs": [
        {
          "name": "stdout",
          "output_type": "stream",
          "text": [
            "Collecting openpyxl\r\n",
            "  Downloading openpyxl-3.0.9-py2.py3-none-any.whl (242 kB)\r\n",
            "     |████████████████████████████████| 242 kB 922 kB/s            \r\n",
            "\u001b[?25hCollecting et-xmlfile\r\n",
            "  Downloading et_xmlfile-1.1.0-py3-none-any.whl (4.7 kB)\r\n",
            "Installing collected packages: et-xmlfile, openpyxl\r\n",
            "Successfully installed et-xmlfile-1.1.0 openpyxl-3.0.9\r\n",
            "\u001b[33mWARNING: Running pip as the 'root' user can result in broken permissions and conflicting behaviour with the system package manager. It is recommended to use a virtual environment instead: https://pip.pypa.io/warnings/venv\u001b[0m\r\n",
            "Note: you may need to restart the kernel to use updated packages.\n"
          ]
        }
      ],
      "source": [
        "pip install openpyxl"
      ]
    },
    {
      "cell_type": "markdown",
      "source": [
        "Selanjutnya kita akan melakukan pembacaan file excel yang telah kita ambil, untuk ditampilkan baris pertama dari data sebagai pemeriksaan awal."
      ],
      "metadata": {
        "id": "16ODDcZqSktI"
      },
      "id": "16ODDcZqSktI"
    },
    {
      "cell_type": "code",
      "execution_count": null,
      "id": "7211b978",
      "metadata": {
        "execution": {
          "iopub.execute_input": "2022-03-27T07:12:36.971806Z",
          "iopub.status.busy": "2022-03-27T07:12:36.971009Z",
          "iopub.status.idle": "2022-03-27T07:12:37.272056Z",
          "shell.execute_reply": "2022-03-27T07:12:37.272587Z",
          "shell.execute_reply.started": "2022-03-26T07:26:19.14882Z"
        },
        "papermill": {
          "duration": 0.323642,
          "end_time": "2022-03-27T07:12:37.272792",
          "exception": false,
          "start_time": "2022-03-27T07:12:36.949150",
          "status": "completed"
        },
        "tags": [],
        "id": "7211b978",
        "outputId": "2b2b177e-893d-4555-81b3-31fc9c3c22d0"
      },
      "outputs": [
        {
          "data": {
            "text/html": [
              "<div>\n",
              "<style scoped>\n",
              "    .dataframe tbody tr th:only-of-type {\n",
              "        vertical-align: middle;\n",
              "    }\n",
              "\n",
              "    .dataframe tbody tr th {\n",
              "        vertical-align: top;\n",
              "    }\n",
              "\n",
              "    .dataframe thead th {\n",
              "        text-align: right;\n",
              "    }\n",
              "</style>\n",
              "<table border=\"1\" class=\"dataframe\">\n",
              "  <thead>\n",
              "    <tr style=\"text-align: right;\">\n",
              "      <th></th>\n",
              "      <th>Jumlah_Produksi</th>\n",
              "      <th>Luas_Lahan</th>\n",
              "      <th>Jumlah_Pohon</th>\n",
              "      <th>Pupuk_Kandang</th>\n",
              "      <th>Pupuk_Phonska</th>\n",
              "      <th>Pestisida</th>\n",
              "      <th>Tenaga_Kerja</th>\n",
              "    </tr>\n",
              "    <tr>\n",
              "      <th>Responden</th>\n",
              "      <th></th>\n",
              "      <th></th>\n",
              "      <th></th>\n",
              "      <th></th>\n",
              "      <th></th>\n",
              "      <th></th>\n",
              "      <th></th>\n",
              "    </tr>\n",
              "  </thead>\n",
              "  <tbody>\n",
              "    <tr>\n",
              "      <th>1</th>\n",
              "      <td>200</td>\n",
              "      <td>900</td>\n",
              "      <td>20</td>\n",
              "      <td>50</td>\n",
              "      <td>10</td>\n",
              "      <td>600</td>\n",
              "      <td>27</td>\n",
              "    </tr>\n",
              "    <tr>\n",
              "      <th>2</th>\n",
              "      <td>500</td>\n",
              "      <td>500</td>\n",
              "      <td>50</td>\n",
              "      <td>250</td>\n",
              "      <td>25</td>\n",
              "      <td>1600</td>\n",
              "      <td>21</td>\n",
              "    </tr>\n",
              "    <tr>\n",
              "      <th>3</th>\n",
              "      <td>500</td>\n",
              "      <td>500</td>\n",
              "      <td>50</td>\n",
              "      <td>250</td>\n",
              "      <td>25</td>\n",
              "      <td>1600</td>\n",
              "      <td>33</td>\n",
              "    </tr>\n",
              "    <tr>\n",
              "      <th>4</th>\n",
              "      <td>900</td>\n",
              "      <td>900</td>\n",
              "      <td>60</td>\n",
              "      <td>450</td>\n",
              "      <td>45</td>\n",
              "      <td>3600</td>\n",
              "      <td>40</td>\n",
              "    </tr>\n",
              "    <tr>\n",
              "      <th>5</th>\n",
              "      <td>900</td>\n",
              "      <td>900</td>\n",
              "      <td>60</td>\n",
              "      <td>450</td>\n",
              "      <td>45</td>\n",
              "      <td>3600</td>\n",
              "      <td>50</td>\n",
              "    </tr>\n",
              "  </tbody>\n",
              "</table>\n",
              "</div>"
            ],
            "text/plain": [
              "           Jumlah_Produksi  Luas_Lahan  Jumlah_Pohon  Pupuk_Kandang  \\\n",
              "Responden                                                             \n",
              "1                      200         900            20             50   \n",
              "2                      500         500            50            250   \n",
              "3                      500         500            50            250   \n",
              "4                      900         900            60            450   \n",
              "5                      900         900            60            450   \n",
              "\n",
              "           Pupuk_Phonska  Pestisida  Tenaga_Kerja  \n",
              "Responden                                          \n",
              "1                     10        600            27  \n",
              "2                     25       1600            21  \n",
              "3                     25       1600            33  \n",
              "4                     45       3600            40  \n",
              "5                     45       3600            50  "
            ]
          },
          "execution_count": 3,
          "metadata": {},
          "output_type": "execute_result"
        }
      ],
      "source": [
        "#dari Pandas untuk membaca file Excel yang diberikan dengan 'index_col=0' untuk mengatur kolom pertama sebagai indeks baris dari DataFrame.\n",
        "data = pd.read_excel(\"../input/data-regresi-linier/data.xlsx\", index_col=0)\n",
        "\n",
        "#menampilkan beberapa baris pertama dari DataFrame yang telah dibaca.\n",
        "data.head()"
      ]
    },
    {
      "cell_type": "markdown",
      "source": [
        "# Bagian 2: Naufal"
      ],
      "metadata": {
        "id": "cRXdFeaCzGGM"
      },
      "id": "cRXdFeaCzGGM"
    },
    {
      "cell_type": "markdown",
      "id": "97036144",
      "metadata": {
        "papermill": {
          "duration": 0.017553,
          "end_time": "2022-03-27T07:12:37.308399",
          "exception": false,
          "start_time": "2022-03-27T07:12:37.290846",
          "status": "completed"
        },
        "tags": [],
        "id": "97036144"
      },
      "source": [
        "# * Import scikit learn untuk mengestimasi model regresi"
      ]
    },
    {
      "cell_type": "markdown",
      "source": [
        "# Pada bagian ini berisi tentang import scikit dan model regresi linear\n",
        "\n",
        "Scikit-Learn atau yang dikenal juga dengan sklearn merupakan library Python yang bersifat open-source. Library ini akan membantu Python untuk mengakses berbagai algoritma machine learning dan alat untuk melakukan tugas-tugas umum dalam Data Science.\n",
        "\n",
        "Regresi linear adalah teknik analisis data yang memprediksi nilai data yang tidak diketahui dengan menggunakan\n",
        "nilai data lain yang terkait dan diketahui. Secara matematis memodelkan variabel yang tidak diketahui atau tergantung dan variabel yang dikenal atau independen sebagai persamaan linier."
      ],
      "metadata": {
        "id": "3i99pu7yav8R"
      },
      "id": "3i99pu7yav8R"
    },
    {
      "cell_type": "code",
      "execution_count": null,
      "id": "02945f50",
      "metadata": {
        "execution": {
          "iopub.execute_input": "2022-03-27T07:12:37.350762Z",
          "iopub.status.busy": "2022-03-27T07:12:37.349932Z",
          "iopub.status.idle": "2022-03-27T07:12:37.628352Z",
          "shell.execute_reply": "2022-03-27T07:12:37.627720Z",
          "shell.execute_reply.started": "2022-03-26T07:42:52.528321Z"
        },
        "papermill": {
          "duration": 0.302222,
          "end_time": "2022-03-27T07:12:37.628535",
          "exception": false,
          "start_time": "2022-03-27T07:12:37.326313",
          "status": "completed"
        },
        "tags": [],
        "id": "02945f50"
      },
      "outputs": [],
      "source": [
        "# Import for Linear Regression\n",
        "import sklearn\n",
        "from sklearn.linear_model import LinearRegression\n",
        "\n",
        "lreg = LinearRegression()"
      ]
    },
    {
      "cell_type": "markdown",
      "id": "66b35a01",
      "metadata": {
        "papermill": {
          "duration": 0.017372,
          "end_time": "2022-03-27T07:12:37.664020",
          "exception": false,
          "start_time": "2022-03-27T07:12:37.646648",
          "status": "completed"
        },
        "tags": [],
        "id": "66b35a01"
      },
      "source": [
        "# 1. set variabel x dan y"
      ]
    },
    {
      "cell_type": "code",
      "execution_count": null,
      "id": "e7d9bc4b",
      "metadata": {
        "execution": {
          "iopub.execute_input": "2022-03-27T07:12:37.711130Z",
          "iopub.status.busy": "2022-03-27T07:12:37.704079Z",
          "iopub.status.idle": "2022-03-27T07:12:37.714670Z",
          "shell.execute_reply": "2022-03-27T07:12:37.715327Z",
          "shell.execute_reply.started": "2022-03-26T07:47:20.808112Z"
        },
        "papermill": {
          "duration": 0.033545,
          "end_time": "2022-03-27T07:12:37.715529",
          "exception": false,
          "start_time": "2022-03-27T07:12:37.681984",
          "status": "completed"
        },
        "tags": [],
        "id": "e7d9bc4b",
        "outputId": "ed1fd80b-cdc3-4be1-cb61-94ac4558b5fc"
      },
      "outputs": [
        {
          "name": "stderr",
          "output_type": "stream",
          "text": [
            "/opt/conda/lib/python3.7/site-packages/ipykernel_launcher.py:2: FutureWarning: In a future version of pandas all arguments of DataFrame.drop except for the argument 'labels' will be keyword-only\n",
            "  \n"
          ]
        }
      ],
      "source": [
        "# Data Columns\n",
        "X_multi = data.drop('Jumlah_Produksi',1)\n",
        "\n",
        "# Targets\n",
        "Y_target = data.Jumlah_Produksi"
      ]
    },
    {
      "cell_type": "code",
      "execution_count": null,
      "id": "2625c1e1",
      "metadata": {
        "execution": {
          "iopub.execute_input": "2022-03-27T07:12:37.773657Z",
          "iopub.status.busy": "2022-03-27T07:12:37.764943Z",
          "iopub.status.idle": "2022-03-27T07:12:37.780743Z",
          "shell.execute_reply": "2022-03-27T07:12:37.780150Z",
          "shell.execute_reply.started": "2022-03-26T07:47:45.685539Z"
        },
        "papermill": {
          "duration": 0.047268,
          "end_time": "2022-03-27T07:12:37.780914",
          "exception": false,
          "start_time": "2022-03-27T07:12:37.733646",
          "status": "completed"
        },
        "tags": [],
        "id": "2625c1e1",
        "outputId": "e9851145-f32e-4387-c78f-8a561e293fbb"
      },
      "outputs": [
        {
          "data": {
            "text/plain": [
              "LinearRegression()"
            ]
          },
          "execution_count": 6,
          "metadata": {},
          "output_type": "execute_result"
        }
      ],
      "source": [
        "lreg.fit(X_multi,Y_target)"
      ]
    },
    {
      "cell_type": "markdown",
      "source": [
        "# Bagian 3: Adam"
      ],
      "metadata": {
        "id": "N-cI0_0B0GkE"
      },
      "id": "N-cI0_0B0GkE"
    },
    {
      "cell_type": "markdown",
      "id": "bc9f5ab9",
      "metadata": {
        "papermill": {
          "duration": 0.018217,
          "end_time": "2022-03-27T07:12:37.818046",
          "exception": false,
          "start_time": "2022-03-27T07:12:37.799829",
          "status": "completed"
        },
        "tags": [],
        "id": "bc9f5ab9"
      },
      "source": [
        "# 2. hasil estimasi koefisien intercept dan x"
      ]
    },
    {
      "cell_type": "markdown",
      "source": [
        "Menampilkan perkiraan koefisien intersep"
      ],
      "metadata": {
        "id": "RZi5DAf7WdKg"
      },
      "id": "RZi5DAf7WdKg"
    },
    {
      "cell_type": "code",
      "execution_count": null,
      "id": "fa609654",
      "metadata": {
        "execution": {
          "iopub.execute_input": "2022-03-27T07:12:37.862177Z",
          "iopub.status.busy": "2022-03-27T07:12:37.861512Z",
          "iopub.status.idle": "2022-03-27T07:12:37.864905Z",
          "shell.execute_reply": "2022-03-27T07:12:37.865412Z",
          "shell.execute_reply.started": "2022-03-26T07:47:57.794444Z"
        },
        "papermill": {
          "duration": 0.02839,
          "end_time": "2022-03-27T07:12:37.865627",
          "exception": false,
          "start_time": "2022-03-27T07:12:37.837237",
          "status": "completed"
        },
        "tags": [],
        "id": "fa609654",
        "outputId": "347032e9-3b5e-4c0d-a08e-ef360c82b80e"
      },
      "outputs": [
        {
          "name": "stdout",
          "output_type": "stream",
          "text": [
            " The estimated intercept coefficient is 8.57 \n"
          ]
        }
      ],
      "source": [
        "print(' The estimated intercept coefficient is %.2f ' %lreg.intercept_)"
      ]
    },
    {
      "cell_type": "markdown",
      "source": [
        "Menampilkan banyaknya koefisien yang digunakan"
      ],
      "metadata": {
        "id": "5Ev6zKbDWn82"
      },
      "id": "5Ev6zKbDWn82"
    },
    {
      "cell_type": "code",
      "execution_count": null,
      "id": "a1176c03",
      "metadata": {
        "execution": {
          "iopub.execute_input": "2022-03-27T07:12:37.907771Z",
          "iopub.status.busy": "2022-03-27T07:12:37.907085Z",
          "iopub.status.idle": "2022-03-27T07:12:37.911419Z",
          "shell.execute_reply": "2022-03-27T07:12:37.912060Z",
          "shell.execute_reply.started": "2022-03-26T07:48:05.755182Z"
        },
        "papermill": {
          "duration": 0.027486,
          "end_time": "2022-03-27T07:12:37.912265",
          "exception": false,
          "start_time": "2022-03-27T07:12:37.884779",
          "status": "completed"
        },
        "tags": [],
        "id": "a1176c03",
        "outputId": "7553e37d-f9e5-4e8f-ade9-6a9fb9a73ca7"
      },
      "outputs": [
        {
          "name": "stdout",
          "output_type": "stream",
          "text": [
            " The number of coefficients used was 6 \n"
          ]
        }
      ],
      "source": [
        "print(' The number of coefficients used was %d ' % len(lreg.coef_))"
      ]
    },
    {
      "cell_type": "code",
      "execution_count": null,
      "id": "a5d7f4e3",
      "metadata": {
        "execution": {
          "iopub.execute_input": "2022-03-27T07:12:37.955162Z",
          "iopub.status.busy": "2022-03-27T07:12:37.954495Z",
          "iopub.status.idle": "2022-03-27T07:12:37.966493Z",
          "shell.execute_reply": "2022-03-27T07:12:37.967027Z",
          "shell.execute_reply.started": "2022-03-26T07:48:39.895298Z"
        },
        "papermill": {
          "duration": 0.03508,
          "end_time": "2022-03-27T07:12:37.967237",
          "exception": false,
          "start_time": "2022-03-27T07:12:37.932157",
          "status": "completed"
        },
        "tags": [],
        "id": "a5d7f4e3",
        "outputId": "a4418cc5-5624-491f-8a7c-4ac328954a48"
      },
      "outputs": [
        {
          "data": {
            "text/html": [
              "<div>\n",
              "<style scoped>\n",
              "    .dataframe tbody tr th:only-of-type {\n",
              "        vertical-align: middle;\n",
              "    }\n",
              "\n",
              "    .dataframe tbody tr th {\n",
              "        vertical-align: top;\n",
              "    }\n",
              "\n",
              "    .dataframe thead th {\n",
              "        text-align: right;\n",
              "    }\n",
              "</style>\n",
              "<table border=\"1\" class=\"dataframe\">\n",
              "  <thead>\n",
              "    <tr style=\"text-align: right;\">\n",
              "      <th></th>\n",
              "      <th>Features</th>\n",
              "      <th>Coefficient Estimate</th>\n",
              "    </tr>\n",
              "  </thead>\n",
              "  <tbody>\n",
              "    <tr>\n",
              "      <th>0</th>\n",
              "      <td>Jumlah_Produksi</td>\n",
              "      <td>-0.002541</td>\n",
              "    </tr>\n",
              "    <tr>\n",
              "      <th>1</th>\n",
              "      <td>Luas_Lahan</td>\n",
              "      <td>1.575790</td>\n",
              "    </tr>\n",
              "    <tr>\n",
              "      <th>2</th>\n",
              "      <td>Jumlah_Pohon</td>\n",
              "      <td>0.610595</td>\n",
              "    </tr>\n",
              "    <tr>\n",
              "      <th>3</th>\n",
              "      <td>Pupuk_Kandang</td>\n",
              "      <td>4.542999</td>\n",
              "    </tr>\n",
              "    <tr>\n",
              "      <th>4</th>\n",
              "      <td>Pupuk_Phonska</td>\n",
              "      <td>0.080771</td>\n",
              "    </tr>\n",
              "    <tr>\n",
              "      <th>5</th>\n",
              "      <td>Pestisida</td>\n",
              "      <td>0.328858</td>\n",
              "    </tr>\n",
              "    <tr>\n",
              "      <th>6</th>\n",
              "      <td>Tenaga_Kerja</td>\n",
              "      <td>NaN</td>\n",
              "    </tr>\n",
              "  </tbody>\n",
              "</table>\n",
              "</div>"
            ],
            "text/plain": [
              "          Features  Coefficient Estimate\n",
              "0  Jumlah_Produksi             -0.002541\n",
              "1       Luas_Lahan              1.575790\n",
              "2     Jumlah_Pohon              0.610595\n",
              "3    Pupuk_Kandang              4.542999\n",
              "4    Pupuk_Phonska              0.080771\n",
              "5        Pestisida              0.328858\n",
              "6     Tenaga_Kerja                   NaN"
            ]
          },
          "execution_count": 9,
          "metadata": {},
          "output_type": "execute_result"
        }
      ],
      "source": [
        "# Set a DataFrame from the Features\n",
        "# Tetapkan DataFrame dari Fitur\n",
        "coeff_df = DataFrame(data.columns)\n",
        "coeff_df.columns = ['Features']\n",
        "\n",
        "# Set a new column lining up the coefficients from the linear regression\n",
        "# Tetapkan kolom baru yang menyusun koefisien dari regresi linier\n",
        "coeff_df[\"Coefficient Estimate\"] = pd.Series(lreg.coef_)\n",
        "\n",
        "# Show\n",
        "# Menunjukkan\n",
        "coeff_df"
      ]
    },
    {
      "cell_type": "markdown",
      "id": "0b0787a2",
      "metadata": {
        "papermill": {
          "duration": 0.02008,
          "end_time": "2022-03-27T07:12:38.007482",
          "exception": false,
          "start_time": "2022-03-27T07:12:37.987402",
          "status": "completed"
        },
        "tags": [],
        "id": "0b0787a2"
      },
      "source": [
        "Model regresi yang didapat :\n",
        "Jumlah_Produksi = 8.57 + 1.575790Luas_Lahan + 0.610595Jumlah_Pohon + 4.542999Pupuk_Kandang + 0.080771Pupuk_Phonska + 0.328858Pestisida"
      ]
    },
    {
      "cell_type": "markdown",
      "source": [
        "# **Bentuk umum Regresi Linier Berganda**\n",
        "## Y = a + b1 X1 + b2 X2 + .... + bn Xn\n",
        "# **Keterangan:**\n",
        "\n",
        "*   Y adalah variabel terikat/dependent\n",
        "*   a adalah konstanta (intersept)\n",
        "*   b adalah koefisien regresi pada masing-masing variabel bebas.\n",
        "*   X adalah variabel-variabel bebas/independent\n",
        "*   n adalah banyaknya variabel x\n",
        "\n"
      ],
      "metadata": {
        "id": "lN3XIhCZO07r"
      },
      "id": "lN3XIhCZO07r"
    },
    {
      "cell_type": "markdown",
      "source": [
        "# **author: @febymelania**\n",
        "# **Link Sumber Public Project Kaggle:**\n",
        "# Dataset: https://www.kaggle.com/datasets/febymelania/data-regresi-linier/code\n",
        "# Code: https://www.kaggle.com/code/febymelania/regresi-linier-jumlah-produksi"
      ],
      "metadata": {
        "id": "vuSmB49Oin4S"
      },
      "id": "vuSmB49Oin4S"
    }
  ],
  "metadata": {
    "kernelspec": {
      "display_name": "Python 3",
      "language": "python",
      "name": "python3"
    },
    "language_info": {
      "codemirror_mode": {
        "name": "ipython",
        "version": 3
      },
      "file_extension": ".py",
      "mimetype": "text/x-python",
      "name": "python",
      "nbconvert_exporter": "python",
      "pygments_lexer": "ipython3",
      "version": "3.7.12"
    },
    "papermill": {
      "default_parameters": {},
      "duration": 25.062902,
      "end_time": "2022-03-27T07:12:38.840096",
      "environment_variables": {},
      "exception": null,
      "input_path": "__notebook__.ipynb",
      "output_path": "__notebook__.ipynb",
      "parameters": {},
      "start_time": "2022-03-27T07:12:13.777194",
      "version": "2.3.3"
    },
    "colab": {
      "provenance": []
    }
  },
  "nbformat": 4,
  "nbformat_minor": 5
}